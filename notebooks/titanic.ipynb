{
 "cells": [
  {
   "cell_type": "markdown",
   "id": "c2d093af",
   "metadata": {},
   "source": [
    "## Imports"
   ]
  },
  {
   "cell_type": "code",
   "execution_count": 39,
   "id": "9251aeff",
   "metadata": {
    "ExecuteTime": {
     "end_time": "2021-10-03T09:59:46.012810Z",
     "start_time": "2021-10-03T09:59:46.007686Z"
    }
   },
   "outputs": [],
   "source": [
    "import pandas as pd\n",
    "import numpy as np\n",
    "import seaborn as sns"
   ]
  },
  {
   "cell_type": "code",
   "execution_count": 55,
   "id": "9c9e4d56",
   "metadata": {
    "ExecuteTime": {
     "end_time": "2021-10-03T11:02:26.438967Z",
     "start_time": "2021-10-03T11:02:26.433514Z"
    }
   },
   "outputs": [],
   "source": [
    "from sklearn.impute import SimpleImputer\n",
    "from sklearn.pipeline import Pipeline\n",
    "from sklearn.preprocessing import MinMaxScaler, OneHotEncoder, OrdinalEncoder\n",
    "from sklearn.compose import ColumnTransformer, make_column_transformer\n",
    "from sklearn.svm import LinearSVC\n",
    "from sklearn.ensemble import RandomForestClassifier\n",
    "from sklearn.model_selection import cross_val_score\n",
    "from sklearn import set_config; set_config(display='diagram')"
   ]
  },
  {
   "cell_type": "markdown",
   "id": "6eb150eb",
   "metadata": {},
   "source": [
    "## Data loading"
   ]
  },
  {
   "cell_type": "code",
   "execution_count": 56,
   "id": "0e055ace",
   "metadata": {
    "ExecuteTime": {
     "end_time": "2021-10-03T11:02:29.179895Z",
     "start_time": "2021-10-03T11:02:29.173459Z"
    }
   },
   "outputs": [],
   "source": [
    "path = '../raw_data/'\n",
    "\n",
    "data = pd.read_csv(path + 'train.csv') \n"
   ]
  },
  {
   "cell_type": "code",
   "execution_count": 57,
   "id": "bb81c0f9",
   "metadata": {
    "ExecuteTime": {
     "end_time": "2021-10-03T11:02:29.369434Z",
     "start_time": "2021-10-03T11:02:29.352331Z"
    }
   },
   "outputs": [
    {
     "data": {
      "text/html": [
       "<div>\n",
       "<style scoped>\n",
       "    .dataframe tbody tr th:only-of-type {\n",
       "        vertical-align: middle;\n",
       "    }\n",
       "\n",
       "    .dataframe tbody tr th {\n",
       "        vertical-align: top;\n",
       "    }\n",
       "\n",
       "    .dataframe thead th {\n",
       "        text-align: right;\n",
       "    }\n",
       "</style>\n",
       "<table border=\"1\" class=\"dataframe\">\n",
       "  <thead>\n",
       "    <tr style=\"text-align: right;\">\n",
       "      <th></th>\n",
       "      <th>PassengerId</th>\n",
       "      <th>Survived</th>\n",
       "      <th>Pclass</th>\n",
       "      <th>Name</th>\n",
       "      <th>Sex</th>\n",
       "      <th>Age</th>\n",
       "      <th>SibSp</th>\n",
       "      <th>Parch</th>\n",
       "      <th>Ticket</th>\n",
       "      <th>Fare</th>\n",
       "      <th>Cabin</th>\n",
       "      <th>Embarked</th>\n",
       "    </tr>\n",
       "  </thead>\n",
       "  <tbody>\n",
       "    <tr>\n",
       "      <th>0</th>\n",
       "      <td>1</td>\n",
       "      <td>0</td>\n",
       "      <td>3</td>\n",
       "      <td>Braund, Mr. Owen Harris</td>\n",
       "      <td>male</td>\n",
       "      <td>22.0</td>\n",
       "      <td>1</td>\n",
       "      <td>0</td>\n",
       "      <td>A/5 21171</td>\n",
       "      <td>7.2500</td>\n",
       "      <td>NaN</td>\n",
       "      <td>S</td>\n",
       "    </tr>\n",
       "    <tr>\n",
       "      <th>1</th>\n",
       "      <td>2</td>\n",
       "      <td>1</td>\n",
       "      <td>1</td>\n",
       "      <td>Cumings, Mrs. John Bradley (Florence Briggs Th...</td>\n",
       "      <td>female</td>\n",
       "      <td>38.0</td>\n",
       "      <td>1</td>\n",
       "      <td>0</td>\n",
       "      <td>PC 17599</td>\n",
       "      <td>71.2833</td>\n",
       "      <td>C85</td>\n",
       "      <td>C</td>\n",
       "    </tr>\n",
       "    <tr>\n",
       "      <th>2</th>\n",
       "      <td>3</td>\n",
       "      <td>1</td>\n",
       "      <td>3</td>\n",
       "      <td>Heikkinen, Miss. Laina</td>\n",
       "      <td>female</td>\n",
       "      <td>26.0</td>\n",
       "      <td>0</td>\n",
       "      <td>0</td>\n",
       "      <td>STON/O2. 3101282</td>\n",
       "      <td>7.9250</td>\n",
       "      <td>NaN</td>\n",
       "      <td>S</td>\n",
       "    </tr>\n",
       "    <tr>\n",
       "      <th>3</th>\n",
       "      <td>4</td>\n",
       "      <td>1</td>\n",
       "      <td>1</td>\n",
       "      <td>Futrelle, Mrs. Jacques Heath (Lily May Peel)</td>\n",
       "      <td>female</td>\n",
       "      <td>35.0</td>\n",
       "      <td>1</td>\n",
       "      <td>0</td>\n",
       "      <td>113803</td>\n",
       "      <td>53.1000</td>\n",
       "      <td>C123</td>\n",
       "      <td>S</td>\n",
       "    </tr>\n",
       "    <tr>\n",
       "      <th>4</th>\n",
       "      <td>5</td>\n",
       "      <td>0</td>\n",
       "      <td>3</td>\n",
       "      <td>Allen, Mr. William Henry</td>\n",
       "      <td>male</td>\n",
       "      <td>35.0</td>\n",
       "      <td>0</td>\n",
       "      <td>0</td>\n",
       "      <td>373450</td>\n",
       "      <td>8.0500</td>\n",
       "      <td>NaN</td>\n",
       "      <td>S</td>\n",
       "    </tr>\n",
       "  </tbody>\n",
       "</table>\n",
       "</div>"
      ],
      "text/plain": [
       "   PassengerId  Survived  Pclass  \\\n",
       "0            1         0       3   \n",
       "1            2         1       1   \n",
       "2            3         1       3   \n",
       "3            4         1       1   \n",
       "4            5         0       3   \n",
       "\n",
       "                                                Name     Sex   Age  SibSp  \\\n",
       "0                            Braund, Mr. Owen Harris    male  22.0      1   \n",
       "1  Cumings, Mrs. John Bradley (Florence Briggs Th...  female  38.0      1   \n",
       "2                             Heikkinen, Miss. Laina  female  26.0      0   \n",
       "3       Futrelle, Mrs. Jacques Heath (Lily May Peel)  female  35.0      1   \n",
       "4                           Allen, Mr. William Henry    male  35.0      0   \n",
       "\n",
       "   Parch            Ticket     Fare Cabin Embarked  \n",
       "0      0         A/5 21171   7.2500   NaN        S  \n",
       "1      0          PC 17599  71.2833   C85        C  \n",
       "2      0  STON/O2. 3101282   7.9250   NaN        S  \n",
       "3      0            113803  53.1000  C123        S  \n",
       "4      0            373450   8.0500   NaN        S  "
      ]
     },
     "execution_count": 57,
     "metadata": {},
     "output_type": "execute_result"
    }
   ],
   "source": [
    "data.head()"
   ]
  },
  {
   "cell_type": "markdown",
   "id": "3d35fa64",
   "metadata": {},
   "source": [
    "## Exploration and cleaning"
   ]
  },
  {
   "cell_type": "code",
   "execution_count": 58,
   "id": "b3acbc08",
   "metadata": {
    "ExecuteTime": {
     "end_time": "2021-10-03T11:02:29.977493Z",
     "start_time": "2021-10-03T11:02:29.926464Z"
    }
   },
   "outputs": [
    {
     "data": {
      "text/html": [
       "<div>\n",
       "<style scoped>\n",
       "    .dataframe tbody tr th:only-of-type {\n",
       "        vertical-align: middle;\n",
       "    }\n",
       "\n",
       "    .dataframe tbody tr th {\n",
       "        vertical-align: top;\n",
       "    }\n",
       "\n",
       "    .dataframe thead th {\n",
       "        text-align: right;\n",
       "    }\n",
       "</style>\n",
       "<table border=\"1\" class=\"dataframe\">\n",
       "  <thead>\n",
       "    <tr style=\"text-align: right;\">\n",
       "      <th></th>\n",
       "      <th>PassengerId</th>\n",
       "      <th>Survived</th>\n",
       "      <th>Pclass</th>\n",
       "      <th>Age</th>\n",
       "      <th>SibSp</th>\n",
       "      <th>Parch</th>\n",
       "      <th>Fare</th>\n",
       "    </tr>\n",
       "  </thead>\n",
       "  <tbody>\n",
       "    <tr>\n",
       "      <th>count</th>\n",
       "      <td>891.000000</td>\n",
       "      <td>891.000000</td>\n",
       "      <td>891.000000</td>\n",
       "      <td>714.000000</td>\n",
       "      <td>891.000000</td>\n",
       "      <td>891.000000</td>\n",
       "      <td>891.000000</td>\n",
       "    </tr>\n",
       "    <tr>\n",
       "      <th>mean</th>\n",
       "      <td>446.000000</td>\n",
       "      <td>0.383838</td>\n",
       "      <td>2.308642</td>\n",
       "      <td>29.699118</td>\n",
       "      <td>0.523008</td>\n",
       "      <td>0.381594</td>\n",
       "      <td>32.204208</td>\n",
       "    </tr>\n",
       "    <tr>\n",
       "      <th>std</th>\n",
       "      <td>257.353842</td>\n",
       "      <td>0.486592</td>\n",
       "      <td>0.836071</td>\n",
       "      <td>14.526497</td>\n",
       "      <td>1.102743</td>\n",
       "      <td>0.806057</td>\n",
       "      <td>49.693429</td>\n",
       "    </tr>\n",
       "    <tr>\n",
       "      <th>min</th>\n",
       "      <td>1.000000</td>\n",
       "      <td>0.000000</td>\n",
       "      <td>1.000000</td>\n",
       "      <td>0.420000</td>\n",
       "      <td>0.000000</td>\n",
       "      <td>0.000000</td>\n",
       "      <td>0.000000</td>\n",
       "    </tr>\n",
       "    <tr>\n",
       "      <th>25%</th>\n",
       "      <td>223.500000</td>\n",
       "      <td>0.000000</td>\n",
       "      <td>2.000000</td>\n",
       "      <td>20.125000</td>\n",
       "      <td>0.000000</td>\n",
       "      <td>0.000000</td>\n",
       "      <td>7.910400</td>\n",
       "    </tr>\n",
       "    <tr>\n",
       "      <th>50%</th>\n",
       "      <td>446.000000</td>\n",
       "      <td>0.000000</td>\n",
       "      <td>3.000000</td>\n",
       "      <td>28.000000</td>\n",
       "      <td>0.000000</td>\n",
       "      <td>0.000000</td>\n",
       "      <td>14.454200</td>\n",
       "    </tr>\n",
       "    <tr>\n",
       "      <th>75%</th>\n",
       "      <td>668.500000</td>\n",
       "      <td>1.000000</td>\n",
       "      <td>3.000000</td>\n",
       "      <td>38.000000</td>\n",
       "      <td>1.000000</td>\n",
       "      <td>0.000000</td>\n",
       "      <td>31.000000</td>\n",
       "    </tr>\n",
       "    <tr>\n",
       "      <th>max</th>\n",
       "      <td>891.000000</td>\n",
       "      <td>1.000000</td>\n",
       "      <td>3.000000</td>\n",
       "      <td>80.000000</td>\n",
       "      <td>8.000000</td>\n",
       "      <td>6.000000</td>\n",
       "      <td>512.329200</td>\n",
       "    </tr>\n",
       "  </tbody>\n",
       "</table>\n",
       "</div>"
      ],
      "text/plain": [
       "       PassengerId    Survived      Pclass         Age       SibSp  \\\n",
       "count   891.000000  891.000000  891.000000  714.000000  891.000000   \n",
       "mean    446.000000    0.383838    2.308642   29.699118    0.523008   \n",
       "std     257.353842    0.486592    0.836071   14.526497    1.102743   \n",
       "min       1.000000    0.000000    1.000000    0.420000    0.000000   \n",
       "25%     223.500000    0.000000    2.000000   20.125000    0.000000   \n",
       "50%     446.000000    0.000000    3.000000   28.000000    0.000000   \n",
       "75%     668.500000    1.000000    3.000000   38.000000    1.000000   \n",
       "max     891.000000    1.000000    3.000000   80.000000    8.000000   \n",
       "\n",
       "            Parch        Fare  \n",
       "count  891.000000  891.000000  \n",
       "mean     0.381594   32.204208  \n",
       "std      0.806057   49.693429  \n",
       "min      0.000000    0.000000  \n",
       "25%      0.000000    7.910400  \n",
       "50%      0.000000   14.454200  \n",
       "75%      0.000000   31.000000  \n",
       "max      6.000000  512.329200  "
      ]
     },
     "execution_count": 58,
     "metadata": {},
     "output_type": "execute_result"
    }
   ],
   "source": [
    "data.describe()"
   ]
  },
  {
   "cell_type": "code",
   "execution_count": 59,
   "id": "5a068021",
   "metadata": {
    "ExecuteTime": {
     "end_time": "2021-10-03T11:02:30.140083Z",
     "start_time": "2021-10-03T11:02:30.127256Z"
    }
   },
   "outputs": [
    {
     "data": {
      "text/plain": [
       "PassengerId      0\n",
       "Survived         0\n",
       "Pclass           0\n",
       "Name             0\n",
       "Sex              0\n",
       "Age            177\n",
       "SibSp            0\n",
       "Parch            0\n",
       "Ticket           0\n",
       "Fare             0\n",
       "Cabin          687\n",
       "Embarked         2\n",
       "dtype: int64"
      ]
     },
     "execution_count": 59,
     "metadata": {},
     "output_type": "execute_result"
    }
   ],
   "source": [
    "data.isnull().sum()"
   ]
  },
  {
   "cell_type": "code",
   "execution_count": 60,
   "id": "62a1168e",
   "metadata": {
    "ExecuteTime": {
     "end_time": "2021-10-03T11:02:30.321715Z",
     "start_time": "2021-10-03T11:02:30.302327Z"
    }
   },
   "outputs": [
    {
     "data": {
      "text/html": [
       "<div>\n",
       "<style scoped>\n",
       "    .dataframe tbody tr th:only-of-type {\n",
       "        vertical-align: middle;\n",
       "    }\n",
       "\n",
       "    .dataframe tbody tr th {\n",
       "        vertical-align: top;\n",
       "    }\n",
       "\n",
       "    .dataframe thead th {\n",
       "        text-align: right;\n",
       "    }\n",
       "</style>\n",
       "<table border=\"1\" class=\"dataframe\">\n",
       "  <thead>\n",
       "    <tr style=\"text-align: right;\">\n",
       "      <th></th>\n",
       "      <th>PassengerId</th>\n",
       "      <th>Survived</th>\n",
       "      <th>Pclass</th>\n",
       "      <th>Name</th>\n",
       "      <th>Sex</th>\n",
       "      <th>Age</th>\n",
       "      <th>SibSp</th>\n",
       "      <th>Parch</th>\n",
       "      <th>Ticket</th>\n",
       "      <th>Fare</th>\n",
       "      <th>Cabin</th>\n",
       "      <th>Embarked</th>\n",
       "    </tr>\n",
       "  </thead>\n",
       "  <tbody>\n",
       "    <tr>\n",
       "      <th>5</th>\n",
       "      <td>6</td>\n",
       "      <td>0</td>\n",
       "      <td>3</td>\n",
       "      <td>Moran, Mr. James</td>\n",
       "      <td>male</td>\n",
       "      <td>NaN</td>\n",
       "      <td>0</td>\n",
       "      <td>0</td>\n",
       "      <td>330877</td>\n",
       "      <td>8.4583</td>\n",
       "      <td>NaN</td>\n",
       "      <td>Q</td>\n",
       "    </tr>\n",
       "    <tr>\n",
       "      <th>17</th>\n",
       "      <td>18</td>\n",
       "      <td>1</td>\n",
       "      <td>2</td>\n",
       "      <td>Williams, Mr. Charles Eugene</td>\n",
       "      <td>male</td>\n",
       "      <td>NaN</td>\n",
       "      <td>0</td>\n",
       "      <td>0</td>\n",
       "      <td>244373</td>\n",
       "      <td>13.0000</td>\n",
       "      <td>NaN</td>\n",
       "      <td>S</td>\n",
       "    </tr>\n",
       "    <tr>\n",
       "      <th>19</th>\n",
       "      <td>20</td>\n",
       "      <td>1</td>\n",
       "      <td>3</td>\n",
       "      <td>Masselmani, Mrs. Fatima</td>\n",
       "      <td>female</td>\n",
       "      <td>NaN</td>\n",
       "      <td>0</td>\n",
       "      <td>0</td>\n",
       "      <td>2649</td>\n",
       "      <td>7.2250</td>\n",
       "      <td>NaN</td>\n",
       "      <td>C</td>\n",
       "    </tr>\n",
       "    <tr>\n",
       "      <th>26</th>\n",
       "      <td>27</td>\n",
       "      <td>0</td>\n",
       "      <td>3</td>\n",
       "      <td>Emir, Mr. Farred Chehab</td>\n",
       "      <td>male</td>\n",
       "      <td>NaN</td>\n",
       "      <td>0</td>\n",
       "      <td>0</td>\n",
       "      <td>2631</td>\n",
       "      <td>7.2250</td>\n",
       "      <td>NaN</td>\n",
       "      <td>C</td>\n",
       "    </tr>\n",
       "    <tr>\n",
       "      <th>28</th>\n",
       "      <td>29</td>\n",
       "      <td>1</td>\n",
       "      <td>3</td>\n",
       "      <td>O'Dwyer, Miss. Ellen \"Nellie\"</td>\n",
       "      <td>female</td>\n",
       "      <td>NaN</td>\n",
       "      <td>0</td>\n",
       "      <td>0</td>\n",
       "      <td>330959</td>\n",
       "      <td>7.8792</td>\n",
       "      <td>NaN</td>\n",
       "      <td>Q</td>\n",
       "    </tr>\n",
       "    <tr>\n",
       "      <th>...</th>\n",
       "      <td>...</td>\n",
       "      <td>...</td>\n",
       "      <td>...</td>\n",
       "      <td>...</td>\n",
       "      <td>...</td>\n",
       "      <td>...</td>\n",
       "      <td>...</td>\n",
       "      <td>...</td>\n",
       "      <td>...</td>\n",
       "      <td>...</td>\n",
       "      <td>...</td>\n",
       "      <td>...</td>\n",
       "    </tr>\n",
       "    <tr>\n",
       "      <th>859</th>\n",
       "      <td>860</td>\n",
       "      <td>0</td>\n",
       "      <td>3</td>\n",
       "      <td>Razi, Mr. Raihed</td>\n",
       "      <td>male</td>\n",
       "      <td>NaN</td>\n",
       "      <td>0</td>\n",
       "      <td>0</td>\n",
       "      <td>2629</td>\n",
       "      <td>7.2292</td>\n",
       "      <td>NaN</td>\n",
       "      <td>C</td>\n",
       "    </tr>\n",
       "    <tr>\n",
       "      <th>863</th>\n",
       "      <td>864</td>\n",
       "      <td>0</td>\n",
       "      <td>3</td>\n",
       "      <td>Sage, Miss. Dorothy Edith \"Dolly\"</td>\n",
       "      <td>female</td>\n",
       "      <td>NaN</td>\n",
       "      <td>8</td>\n",
       "      <td>2</td>\n",
       "      <td>CA. 2343</td>\n",
       "      <td>69.5500</td>\n",
       "      <td>NaN</td>\n",
       "      <td>S</td>\n",
       "    </tr>\n",
       "    <tr>\n",
       "      <th>868</th>\n",
       "      <td>869</td>\n",
       "      <td>0</td>\n",
       "      <td>3</td>\n",
       "      <td>van Melkebeke, Mr. Philemon</td>\n",
       "      <td>male</td>\n",
       "      <td>NaN</td>\n",
       "      <td>0</td>\n",
       "      <td>0</td>\n",
       "      <td>345777</td>\n",
       "      <td>9.5000</td>\n",
       "      <td>NaN</td>\n",
       "      <td>S</td>\n",
       "    </tr>\n",
       "    <tr>\n",
       "      <th>878</th>\n",
       "      <td>879</td>\n",
       "      <td>0</td>\n",
       "      <td>3</td>\n",
       "      <td>Laleff, Mr. Kristo</td>\n",
       "      <td>male</td>\n",
       "      <td>NaN</td>\n",
       "      <td>0</td>\n",
       "      <td>0</td>\n",
       "      <td>349217</td>\n",
       "      <td>7.8958</td>\n",
       "      <td>NaN</td>\n",
       "      <td>S</td>\n",
       "    </tr>\n",
       "    <tr>\n",
       "      <th>888</th>\n",
       "      <td>889</td>\n",
       "      <td>0</td>\n",
       "      <td>3</td>\n",
       "      <td>Johnston, Miss. Catherine Helen \"Carrie\"</td>\n",
       "      <td>female</td>\n",
       "      <td>NaN</td>\n",
       "      <td>1</td>\n",
       "      <td>2</td>\n",
       "      <td>W./C. 6607</td>\n",
       "      <td>23.4500</td>\n",
       "      <td>NaN</td>\n",
       "      <td>S</td>\n",
       "    </tr>\n",
       "  </tbody>\n",
       "</table>\n",
       "<p>177 rows × 12 columns</p>\n",
       "</div>"
      ],
      "text/plain": [
       "     PassengerId  Survived  Pclass                                      Name  \\\n",
       "5              6         0       3                          Moran, Mr. James   \n",
       "17            18         1       2              Williams, Mr. Charles Eugene   \n",
       "19            20         1       3                   Masselmani, Mrs. Fatima   \n",
       "26            27         0       3                   Emir, Mr. Farred Chehab   \n",
       "28            29         1       3             O'Dwyer, Miss. Ellen \"Nellie\"   \n",
       "..           ...       ...     ...                                       ...   \n",
       "859          860         0       3                          Razi, Mr. Raihed   \n",
       "863          864         0       3         Sage, Miss. Dorothy Edith \"Dolly\"   \n",
       "868          869         0       3               van Melkebeke, Mr. Philemon   \n",
       "878          879         0       3                        Laleff, Mr. Kristo   \n",
       "888          889         0       3  Johnston, Miss. Catherine Helen \"Carrie\"   \n",
       "\n",
       "        Sex  Age  SibSp  Parch      Ticket     Fare Cabin Embarked  \n",
       "5      male  NaN      0      0      330877   8.4583   NaN        Q  \n",
       "17     male  NaN      0      0      244373  13.0000   NaN        S  \n",
       "19   female  NaN      0      0        2649   7.2250   NaN        C  \n",
       "26     male  NaN      0      0        2631   7.2250   NaN        C  \n",
       "28   female  NaN      0      0      330959   7.8792   NaN        Q  \n",
       "..      ...  ...    ...    ...         ...      ...   ...      ...  \n",
       "859    male  NaN      0      0        2629   7.2292   NaN        C  \n",
       "863  female  NaN      8      2    CA. 2343  69.5500   NaN        S  \n",
       "868    male  NaN      0      0      345777   9.5000   NaN        S  \n",
       "878    male  NaN      0      0      349217   7.8958   NaN        S  \n",
       "888  female  NaN      1      2  W./C. 6607  23.4500   NaN        S  \n",
       "\n",
       "[177 rows x 12 columns]"
      ]
     },
     "execution_count": 60,
     "metadata": {},
     "output_type": "execute_result"
    }
   ],
   "source": [
    "data[data.Age.isnull()]"
   ]
  },
  {
   "cell_type": "markdown",
   "id": "07956ede",
   "metadata": {},
   "source": [
    "### Cleaning"
   ]
  },
  {
   "cell_type": "markdown",
   "id": "7152a5c0",
   "metadata": {},
   "source": [
    "> Let's impute the mean in the missing ages, standard scale the numerical features, one hot encode the categorical features, and drop the columns \"Cabin\" and Ticket Number, PassengerId,"
   ]
  },
  {
   "cell_type": "code",
   "execution_count": 61,
   "id": "eee12664",
   "metadata": {
    "ExecuteTime": {
     "end_time": "2021-10-03T11:02:31.629008Z",
     "start_time": "2021-10-03T11:02:31.622207Z"
    }
   },
   "outputs": [],
   "source": [
    "# features list\n",
    "num_features = ['Age', 'Fare', 'SibSp', 'Parch']\n",
    "cat_features = ['Sex', 'Embarked']\n",
    "label_features = ['Pclass']\n",
    "\n",
    "# Impute then Scale for numerical variables:\n",
    "num_transformer = Pipeline([('imputer', SimpleImputer(strategy='median')),\n",
    "                            ('scaler', MinMaxScaler())])\n",
    "\n",
    "# Ordinal encode Pclass\n",
    "ordinal_tranformer = OrdinalEncoder()\n",
    "\n",
    "# Impute most frequent value for missing \"Embarked\" then one Hot Encode categorical variables\n",
    "cat_transformer = Pipeline([\n",
    "    ('imputer', SimpleImputer(strategy='most_frequent')),\n",
    "    ('ohe', OneHotEncoder(sparse=False, handle_unknown='ignore'))\n",
    "])\n",
    "\n",
    "\n",
    "\n",
    "# Paralellize \"num_transformer\" and \"One hot encoder\"\n",
    "preprocessor = ColumnTransformer([\n",
    "    ('num_transformer', num_transformer, num_features),\n",
    "    ('label_transformer', ordinal_tranformer, label_features),\n",
    "    ('cat_transformer', cat_transformer, cat_features),\n",
    "])"
   ]
  },
  {
   "cell_type": "code",
   "execution_count": 62,
   "id": "d049e435",
   "metadata": {
    "ExecuteTime": {
     "end_time": "2021-10-03T11:02:32.741463Z",
     "start_time": "2021-10-03T11:02:32.702896Z"
    }
   },
   "outputs": [
    {
     "data": {
      "text/html": [
       "<style>#sk-2dc0bfc7-3576-49fa-be37-1322d66906b0 {color: black;background-color: white;}#sk-2dc0bfc7-3576-49fa-be37-1322d66906b0 pre{padding: 0;}#sk-2dc0bfc7-3576-49fa-be37-1322d66906b0 div.sk-toggleable {background-color: white;}#sk-2dc0bfc7-3576-49fa-be37-1322d66906b0 label.sk-toggleable__label {cursor: pointer;display: block;width: 100%;margin-bottom: 0;padding: 0.3em;box-sizing: border-box;text-align: center;}#sk-2dc0bfc7-3576-49fa-be37-1322d66906b0 div.sk-toggleable__content {max-height: 0;max-width: 0;overflow: hidden;text-align: left;background-color: #f0f8ff;}#sk-2dc0bfc7-3576-49fa-be37-1322d66906b0 div.sk-toggleable__content pre {margin: 0.2em;color: black;border-radius: 0.25em;background-color: #f0f8ff;}#sk-2dc0bfc7-3576-49fa-be37-1322d66906b0 input.sk-toggleable__control:checked~div.sk-toggleable__content {max-height: 200px;max-width: 100%;overflow: auto;}#sk-2dc0bfc7-3576-49fa-be37-1322d66906b0 div.sk-estimator input.sk-toggleable__control:checked~label.sk-toggleable__label {background-color: #d4ebff;}#sk-2dc0bfc7-3576-49fa-be37-1322d66906b0 div.sk-label input.sk-toggleable__control:checked~label.sk-toggleable__label {background-color: #d4ebff;}#sk-2dc0bfc7-3576-49fa-be37-1322d66906b0 input.sk-hidden--visually {border: 0;clip: rect(1px 1px 1px 1px);clip: rect(1px, 1px, 1px, 1px);height: 1px;margin: -1px;overflow: hidden;padding: 0;position: absolute;width: 1px;}#sk-2dc0bfc7-3576-49fa-be37-1322d66906b0 div.sk-estimator {font-family: monospace;background-color: #f0f8ff;border: 1px dotted black;border-radius: 0.25em;box-sizing: border-box;margin-bottom: 0.5em;}#sk-2dc0bfc7-3576-49fa-be37-1322d66906b0 div.sk-estimator:hover {background-color: #d4ebff;}#sk-2dc0bfc7-3576-49fa-be37-1322d66906b0 div.sk-parallel-item::after {content: \"\";width: 100%;border-bottom: 1px solid gray;flex-grow: 1;}#sk-2dc0bfc7-3576-49fa-be37-1322d66906b0 div.sk-label:hover label.sk-toggleable__label {background-color: #d4ebff;}#sk-2dc0bfc7-3576-49fa-be37-1322d66906b0 div.sk-serial::before {content: \"\";position: absolute;border-left: 1px solid gray;box-sizing: border-box;top: 2em;bottom: 0;left: 50%;}#sk-2dc0bfc7-3576-49fa-be37-1322d66906b0 div.sk-serial {display: flex;flex-direction: column;align-items: center;background-color: white;padding-right: 0.2em;padding-left: 0.2em;}#sk-2dc0bfc7-3576-49fa-be37-1322d66906b0 div.sk-item {z-index: 1;}#sk-2dc0bfc7-3576-49fa-be37-1322d66906b0 div.sk-parallel {display: flex;align-items: stretch;justify-content: center;background-color: white;}#sk-2dc0bfc7-3576-49fa-be37-1322d66906b0 div.sk-parallel::before {content: \"\";position: absolute;border-left: 1px solid gray;box-sizing: border-box;top: 2em;bottom: 0;left: 50%;}#sk-2dc0bfc7-3576-49fa-be37-1322d66906b0 div.sk-parallel-item {display: flex;flex-direction: column;position: relative;background-color: white;}#sk-2dc0bfc7-3576-49fa-be37-1322d66906b0 div.sk-parallel-item:first-child::after {align-self: flex-end;width: 50%;}#sk-2dc0bfc7-3576-49fa-be37-1322d66906b0 div.sk-parallel-item:last-child::after {align-self: flex-start;width: 50%;}#sk-2dc0bfc7-3576-49fa-be37-1322d66906b0 div.sk-parallel-item:only-child::after {width: 0;}#sk-2dc0bfc7-3576-49fa-be37-1322d66906b0 div.sk-dashed-wrapped {border: 1px dashed gray;margin: 0 0.4em 0.5em 0.4em;box-sizing: border-box;padding-bottom: 0.4em;background-color: white;position: relative;}#sk-2dc0bfc7-3576-49fa-be37-1322d66906b0 div.sk-label label {font-family: monospace;font-weight: bold;background-color: white;display: inline-block;line-height: 1.2em;}#sk-2dc0bfc7-3576-49fa-be37-1322d66906b0 div.sk-label-container {position: relative;z-index: 2;text-align: center;}#sk-2dc0bfc7-3576-49fa-be37-1322d66906b0 div.sk-container {display: inline-block;position: relative;}</style><div id=\"sk-2dc0bfc7-3576-49fa-be37-1322d66906b0\" class\"sk-top-container\"><div class=\"sk-container\"><div class=\"sk-item sk-dashed-wrapped\"><div class=\"sk-label-container\"><div class=\"sk-label sk-toggleable\"><input class=\"sk-toggleable__control sk-hidden--visually\" id=\"d96d31c4-0457-440a-86a3-8cfca29b39d9\" type=\"checkbox\" ><label class=\"sk-toggleable__label\" for=\"d96d31c4-0457-440a-86a3-8cfca29b39d9\">ColumnTransformer</label><div class=\"sk-toggleable__content\"><pre>ColumnTransformer(transformers=[('num_transformer',\n",
       "                                 Pipeline(steps=[('imputer',\n",
       "                                                  SimpleImputer(strategy='median')),\n",
       "                                                 ('scaler', MinMaxScaler())]),\n",
       "                                 ['Age', 'Fare', 'SibSp', 'Parch']),\n",
       "                                ('label_transformer', OrdinalEncoder(),\n",
       "                                 ['Pclass']),\n",
       "                                ('cat_transformer',\n",
       "                                 Pipeline(steps=[('imputer',\n",
       "                                                  SimpleImputer(strategy='most_frequent')),\n",
       "                                                 ('ohe',\n",
       "                                                  OneHotEncoder(handle_unknown='ignore',\n",
       "                                                                sparse=False))]),\n",
       "                                 ['Sex', 'Embarked'])])</pre></div></div></div><div class=\"sk-parallel\"><div class=\"sk-parallel-item\"><div class=\"sk-item\"><div class=\"sk-label-container\"><div class=\"sk-label sk-toggleable\"><input class=\"sk-toggleable__control sk-hidden--visually\" id=\"78a6bf8f-cab8-4709-b091-b78c1283851a\" type=\"checkbox\" ><label class=\"sk-toggleable__label\" for=\"78a6bf8f-cab8-4709-b091-b78c1283851a\">num_transformer</label><div class=\"sk-toggleable__content\"><pre>['Age', 'Fare', 'SibSp', 'Parch']</pre></div></div></div><div class=\"sk-serial\"><div class=\"sk-item\"><div class=\"sk-serial\"><div class=\"sk-item\"><div class=\"sk-estimator sk-toggleable\"><input class=\"sk-toggleable__control sk-hidden--visually\" id=\"7fd135c9-a8f1-4b55-b83c-f07e11607626\" type=\"checkbox\" ><label class=\"sk-toggleable__label\" for=\"7fd135c9-a8f1-4b55-b83c-f07e11607626\">SimpleImputer</label><div class=\"sk-toggleable__content\"><pre>SimpleImputer(strategy='median')</pre></div></div></div><div class=\"sk-item\"><div class=\"sk-estimator sk-toggleable\"><input class=\"sk-toggleable__control sk-hidden--visually\" id=\"d45afa01-76f2-4d32-a3fa-49cacbb7a616\" type=\"checkbox\" ><label class=\"sk-toggleable__label\" for=\"d45afa01-76f2-4d32-a3fa-49cacbb7a616\">MinMaxScaler</label><div class=\"sk-toggleable__content\"><pre>MinMaxScaler()</pre></div></div></div></div></div></div></div></div><div class=\"sk-parallel-item\"><div class=\"sk-item\"><div class=\"sk-label-container\"><div class=\"sk-label sk-toggleable\"><input class=\"sk-toggleable__control sk-hidden--visually\" id=\"b25c2e05-7857-45ea-bbba-0ce091d0e7d5\" type=\"checkbox\" ><label class=\"sk-toggleable__label\" for=\"b25c2e05-7857-45ea-bbba-0ce091d0e7d5\">label_transformer</label><div class=\"sk-toggleable__content\"><pre>['Pclass']</pre></div></div></div><div class=\"sk-serial\"><div class=\"sk-item\"><div class=\"sk-estimator sk-toggleable\"><input class=\"sk-toggleable__control sk-hidden--visually\" id=\"b779c0a8-f345-49fa-bdab-c6278766c3d1\" type=\"checkbox\" ><label class=\"sk-toggleable__label\" for=\"b779c0a8-f345-49fa-bdab-c6278766c3d1\">OrdinalEncoder</label><div class=\"sk-toggleable__content\"><pre>OrdinalEncoder()</pre></div></div></div></div></div></div><div class=\"sk-parallel-item\"><div class=\"sk-item\"><div class=\"sk-label-container\"><div class=\"sk-label sk-toggleable\"><input class=\"sk-toggleable__control sk-hidden--visually\" id=\"7c4fa131-c6c5-4227-a32b-dcff1d86cffd\" type=\"checkbox\" ><label class=\"sk-toggleable__label\" for=\"7c4fa131-c6c5-4227-a32b-dcff1d86cffd\">cat_transformer</label><div class=\"sk-toggleable__content\"><pre>['Sex', 'Embarked']</pre></div></div></div><div class=\"sk-serial\"><div class=\"sk-item\"><div class=\"sk-serial\"><div class=\"sk-item\"><div class=\"sk-estimator sk-toggleable\"><input class=\"sk-toggleable__control sk-hidden--visually\" id=\"dfa2ee97-e619-4c03-bced-974606318c5a\" type=\"checkbox\" ><label class=\"sk-toggleable__label\" for=\"dfa2ee97-e619-4c03-bced-974606318c5a\">SimpleImputer</label><div class=\"sk-toggleable__content\"><pre>SimpleImputer(strategy='most_frequent')</pre></div></div></div><div class=\"sk-item\"><div class=\"sk-estimator sk-toggleable\"><input class=\"sk-toggleable__control sk-hidden--visually\" id=\"3f4704ce-a025-4e16-82f1-61a9c2b9d0f0\" type=\"checkbox\" ><label class=\"sk-toggleable__label\" for=\"3f4704ce-a025-4e16-82f1-61a9c2b9d0f0\">OneHotEncoder</label><div class=\"sk-toggleable__content\"><pre>OneHotEncoder(handle_unknown='ignore', sparse=False)</pre></div></div></div></div></div></div></div></div></div></div></div></div>"
      ],
      "text/plain": [
       "ColumnTransformer(transformers=[('num_transformer',\n",
       "                                 Pipeline(steps=[('imputer',\n",
       "                                                  SimpleImputer(strategy='median')),\n",
       "                                                 ('scaler', MinMaxScaler())]),\n",
       "                                 ['Age', 'Fare', 'SibSp', 'Parch']),\n",
       "                                ('label_transformer', OrdinalEncoder(),\n",
       "                                 ['Pclass']),\n",
       "                                ('cat_transformer',\n",
       "                                 Pipeline(steps=[('imputer',\n",
       "                                                  SimpleImputer(strategy='most_frequent')),\n",
       "                                                 ('ohe',\n",
       "                                                  OneHotEncoder(handle_unknown='ignore',\n",
       "                                                                sparse=False))]),\n",
       "                                 ['Sex', 'Embarked'])])"
      ]
     },
     "execution_count": 62,
     "metadata": {},
     "output_type": "execute_result"
    }
   ],
   "source": [
    "preprocessor"
   ]
  },
  {
   "cell_type": "code",
   "execution_count": 29,
   "id": "426dd173",
   "metadata": {
    "ExecuteTime": {
     "end_time": "2021-10-03T09:55:32.414977Z",
     "start_time": "2021-10-03T09:55:32.408924Z"
    }
   },
   "outputs": [],
   "source": [
    "X = data.drop(columns='Survived')\n",
    "y = data.Survived"
   ]
  },
  {
   "cell_type": "code",
   "execution_count": 30,
   "id": "11b7fb96",
   "metadata": {
    "ExecuteTime": {
     "end_time": "2021-10-03T09:55:32.802570Z",
     "start_time": "2021-10-03T09:55:32.774765Z"
    }
   },
   "outputs": [],
   "source": [
    "X = preprocessor.fit_transform(X) # fit and transform the preprocessor"
   ]
  },
  {
   "cell_type": "code",
   "execution_count": 31,
   "id": "0ebe846e",
   "metadata": {
    "ExecuteTime": {
     "end_time": "2021-10-03T09:55:33.046044Z",
     "start_time": "2021-10-03T09:55:33.040445Z"
    }
   },
   "outputs": [],
   "source": [
    "# Get the name of the categorical columns from the one hot encoder, it's deep down there\n",
    "cat_cols = list(preprocessor.transformers_[-2][1].steps[-1][-1].get_feature_names_out())\n",
    "\n",
    "# Make a DataFrame out of the transformed X, with nice column names\n",
    "X = pd.DataFrame(X, columns=list(num_features) + label_features + cat_cols)"
   ]
  },
  {
   "cell_type": "code",
   "execution_count": 32,
   "id": "afb220bd",
   "metadata": {
    "ExecuteTime": {
     "end_time": "2021-10-03T09:55:33.380750Z",
     "start_time": "2021-10-03T09:55:33.345346Z"
    }
   },
   "outputs": [
    {
     "data": {
      "text/html": [
       "<div>\n",
       "<style scoped>\n",
       "    .dataframe tbody tr th:only-of-type {\n",
       "        vertical-align: middle;\n",
       "    }\n",
       "\n",
       "    .dataframe tbody tr th {\n",
       "        vertical-align: top;\n",
       "    }\n",
       "\n",
       "    .dataframe thead th {\n",
       "        text-align: right;\n",
       "    }\n",
       "</style>\n",
       "<table border=\"1\" class=\"dataframe\">\n",
       "  <thead>\n",
       "    <tr style=\"text-align: right;\">\n",
       "      <th></th>\n",
       "      <th>Age</th>\n",
       "      <th>Fare</th>\n",
       "      <th>SibSp</th>\n",
       "      <th>Parch</th>\n",
       "      <th>Pclass</th>\n",
       "      <th>x0_female</th>\n",
       "      <th>x0_male</th>\n",
       "      <th>x1_C</th>\n",
       "      <th>x1_Q</th>\n",
       "      <th>x1_S</th>\n",
       "    </tr>\n",
       "  </thead>\n",
       "  <tbody>\n",
       "    <tr>\n",
       "      <th>0</th>\n",
       "      <td>0.271174</td>\n",
       "      <td>0.014151</td>\n",
       "      <td>0.125</td>\n",
       "      <td>0.0</td>\n",
       "      <td>2.0</td>\n",
       "      <td>0.0</td>\n",
       "      <td>1.0</td>\n",
       "      <td>0.0</td>\n",
       "      <td>0.0</td>\n",
       "      <td>1.0</td>\n",
       "    </tr>\n",
       "    <tr>\n",
       "      <th>1</th>\n",
       "      <td>0.472229</td>\n",
       "      <td>0.139136</td>\n",
       "      <td>0.125</td>\n",
       "      <td>0.0</td>\n",
       "      <td>0.0</td>\n",
       "      <td>1.0</td>\n",
       "      <td>0.0</td>\n",
       "      <td>1.0</td>\n",
       "      <td>0.0</td>\n",
       "      <td>0.0</td>\n",
       "    </tr>\n",
       "    <tr>\n",
       "      <th>2</th>\n",
       "      <td>0.321438</td>\n",
       "      <td>0.015469</td>\n",
       "      <td>0.000</td>\n",
       "      <td>0.0</td>\n",
       "      <td>2.0</td>\n",
       "      <td>1.0</td>\n",
       "      <td>0.0</td>\n",
       "      <td>0.0</td>\n",
       "      <td>0.0</td>\n",
       "      <td>1.0</td>\n",
       "    </tr>\n",
       "    <tr>\n",
       "      <th>3</th>\n",
       "      <td>0.434531</td>\n",
       "      <td>0.103644</td>\n",
       "      <td>0.125</td>\n",
       "      <td>0.0</td>\n",
       "      <td>0.0</td>\n",
       "      <td>1.0</td>\n",
       "      <td>0.0</td>\n",
       "      <td>0.0</td>\n",
       "      <td>0.0</td>\n",
       "      <td>1.0</td>\n",
       "    </tr>\n",
       "    <tr>\n",
       "      <th>4</th>\n",
       "      <td>0.434531</td>\n",
       "      <td>0.015713</td>\n",
       "      <td>0.000</td>\n",
       "      <td>0.0</td>\n",
       "      <td>2.0</td>\n",
       "      <td>0.0</td>\n",
       "      <td>1.0</td>\n",
       "      <td>0.0</td>\n",
       "      <td>0.0</td>\n",
       "      <td>1.0</td>\n",
       "    </tr>\n",
       "  </tbody>\n",
       "</table>\n",
       "</div>"
      ],
      "text/plain": [
       "        Age      Fare  SibSp  Parch  Pclass  x0_female  x0_male  x1_C  x1_Q  \\\n",
       "0  0.271174  0.014151  0.125    0.0     2.0        0.0      1.0   0.0   0.0   \n",
       "1  0.472229  0.139136  0.125    0.0     0.0        1.0      0.0   1.0   0.0   \n",
       "2  0.321438  0.015469  0.000    0.0     2.0        1.0      0.0   0.0   0.0   \n",
       "3  0.434531  0.103644  0.125    0.0     0.0        1.0      0.0   0.0   0.0   \n",
       "4  0.434531  0.015713  0.000    0.0     2.0        0.0      1.0   0.0   0.0   \n",
       "\n",
       "   x1_S  \n",
       "0   1.0  \n",
       "1   0.0  \n",
       "2   1.0  \n",
       "3   1.0  \n",
       "4   1.0  "
      ]
     },
     "execution_count": 32,
     "metadata": {},
     "output_type": "execute_result"
    }
   ],
   "source": [
    "X.head()"
   ]
  },
  {
   "cell_type": "markdown",
   "id": "3900c188",
   "metadata": {},
   "source": [
    "## Model selection"
   ]
  },
  {
   "cell_type": "code",
   "execution_count": 67,
   "id": "f135cea7",
   "metadata": {
    "ExecuteTime": {
     "end_time": "2021-10-03T11:04:38.845113Z",
     "start_time": "2021-10-03T11:04:38.753957Z"
    }
   },
   "outputs": [
    {
     "data": {
      "text/html": [
       "<style>#sk-b9845aa4-c262-45b2-8bbd-305d2d1adcae {color: black;background-color: white;}#sk-b9845aa4-c262-45b2-8bbd-305d2d1adcae pre{padding: 0;}#sk-b9845aa4-c262-45b2-8bbd-305d2d1adcae div.sk-toggleable {background-color: white;}#sk-b9845aa4-c262-45b2-8bbd-305d2d1adcae label.sk-toggleable__label {cursor: pointer;display: block;width: 100%;margin-bottom: 0;padding: 0.3em;box-sizing: border-box;text-align: center;}#sk-b9845aa4-c262-45b2-8bbd-305d2d1adcae div.sk-toggleable__content {max-height: 0;max-width: 0;overflow: hidden;text-align: left;background-color: #f0f8ff;}#sk-b9845aa4-c262-45b2-8bbd-305d2d1adcae div.sk-toggleable__content pre {margin: 0.2em;color: black;border-radius: 0.25em;background-color: #f0f8ff;}#sk-b9845aa4-c262-45b2-8bbd-305d2d1adcae input.sk-toggleable__control:checked~div.sk-toggleable__content {max-height: 200px;max-width: 100%;overflow: auto;}#sk-b9845aa4-c262-45b2-8bbd-305d2d1adcae div.sk-estimator input.sk-toggleable__control:checked~label.sk-toggleable__label {background-color: #d4ebff;}#sk-b9845aa4-c262-45b2-8bbd-305d2d1adcae div.sk-label input.sk-toggleable__control:checked~label.sk-toggleable__label {background-color: #d4ebff;}#sk-b9845aa4-c262-45b2-8bbd-305d2d1adcae input.sk-hidden--visually {border: 0;clip: rect(1px 1px 1px 1px);clip: rect(1px, 1px, 1px, 1px);height: 1px;margin: -1px;overflow: hidden;padding: 0;position: absolute;width: 1px;}#sk-b9845aa4-c262-45b2-8bbd-305d2d1adcae div.sk-estimator {font-family: monospace;background-color: #f0f8ff;border: 1px dotted black;border-radius: 0.25em;box-sizing: border-box;margin-bottom: 0.5em;}#sk-b9845aa4-c262-45b2-8bbd-305d2d1adcae div.sk-estimator:hover {background-color: #d4ebff;}#sk-b9845aa4-c262-45b2-8bbd-305d2d1adcae div.sk-parallel-item::after {content: \"\";width: 100%;border-bottom: 1px solid gray;flex-grow: 1;}#sk-b9845aa4-c262-45b2-8bbd-305d2d1adcae div.sk-label:hover label.sk-toggleable__label {background-color: #d4ebff;}#sk-b9845aa4-c262-45b2-8bbd-305d2d1adcae div.sk-serial::before {content: \"\";position: absolute;border-left: 1px solid gray;box-sizing: border-box;top: 2em;bottom: 0;left: 50%;}#sk-b9845aa4-c262-45b2-8bbd-305d2d1adcae div.sk-serial {display: flex;flex-direction: column;align-items: center;background-color: white;padding-right: 0.2em;padding-left: 0.2em;}#sk-b9845aa4-c262-45b2-8bbd-305d2d1adcae div.sk-item {z-index: 1;}#sk-b9845aa4-c262-45b2-8bbd-305d2d1adcae div.sk-parallel {display: flex;align-items: stretch;justify-content: center;background-color: white;}#sk-b9845aa4-c262-45b2-8bbd-305d2d1adcae div.sk-parallel::before {content: \"\";position: absolute;border-left: 1px solid gray;box-sizing: border-box;top: 2em;bottom: 0;left: 50%;}#sk-b9845aa4-c262-45b2-8bbd-305d2d1adcae div.sk-parallel-item {display: flex;flex-direction: column;position: relative;background-color: white;}#sk-b9845aa4-c262-45b2-8bbd-305d2d1adcae div.sk-parallel-item:first-child::after {align-self: flex-end;width: 50%;}#sk-b9845aa4-c262-45b2-8bbd-305d2d1adcae div.sk-parallel-item:last-child::after {align-self: flex-start;width: 50%;}#sk-b9845aa4-c262-45b2-8bbd-305d2d1adcae div.sk-parallel-item:only-child::after {width: 0;}#sk-b9845aa4-c262-45b2-8bbd-305d2d1adcae div.sk-dashed-wrapped {border: 1px dashed gray;margin: 0 0.4em 0.5em 0.4em;box-sizing: border-box;padding-bottom: 0.4em;background-color: white;position: relative;}#sk-b9845aa4-c262-45b2-8bbd-305d2d1adcae div.sk-label label {font-family: monospace;font-weight: bold;background-color: white;display: inline-block;line-height: 1.2em;}#sk-b9845aa4-c262-45b2-8bbd-305d2d1adcae div.sk-label-container {position: relative;z-index: 2;text-align: center;}#sk-b9845aa4-c262-45b2-8bbd-305d2d1adcae div.sk-container {display: inline-block;position: relative;}</style><div id=\"sk-b9845aa4-c262-45b2-8bbd-305d2d1adcae\" class\"sk-top-container\"><div class=\"sk-container\"><div class=\"sk-item sk-dashed-wrapped\"><div class=\"sk-label-container\"><div class=\"sk-label sk-toggleable\"><input class=\"sk-toggleable__control sk-hidden--visually\" id=\"1d1335f6-7f31-4894-b9c8-a3bc16c7a459\" type=\"checkbox\" ><label class=\"sk-toggleable__label\" for=\"1d1335f6-7f31-4894-b9c8-a3bc16c7a459\">Pipeline</label><div class=\"sk-toggleable__content\"><pre>Pipeline(steps=[('preprocessing',\n",
       "                 ColumnTransformer(transformers=[('num_transformer',\n",
       "                                                  Pipeline(steps=[('imputer',\n",
       "                                                                   SimpleImputer(strategy='median')),\n",
       "                                                                  ('scaler',\n",
       "                                                                   MinMaxScaler())]),\n",
       "                                                  ['Age', 'Fare', 'SibSp',\n",
       "                                                   'Parch']),\n",
       "                                                 ('label_transformer',\n",
       "                                                  OrdinalEncoder(),\n",
       "                                                  ['Pclass']),\n",
       "                                                 ('cat_transformer',\n",
       "                                                  Pipeline(steps=[('imputer',\n",
       "                                                                   SimpleImputer(strategy='most_frequent')),\n",
       "                                                                  ('ohe',\n",
       "                                                                   OneHotEncoder(handle_unknown='ignore',\n",
       "                                                                                 sparse=False))]),\n",
       "                                                  ['Sex', 'Embarked'])])),\n",
       "                ('ensemble_estimator', RandomForestClassifier())])</pre></div></div></div><div class=\"sk-serial\"><div class=\"sk-item sk-dashed-wrapped\"><div class=\"sk-label-container\"><div class=\"sk-label sk-toggleable\"><input class=\"sk-toggleable__control sk-hidden--visually\" id=\"04cc925e-2e7a-4192-8673-a0ac83ff5a01\" type=\"checkbox\" ><label class=\"sk-toggleable__label\" for=\"04cc925e-2e7a-4192-8673-a0ac83ff5a01\">preprocessing: ColumnTransformer</label><div class=\"sk-toggleable__content\"><pre>ColumnTransformer(transformers=[('num_transformer',\n",
       "                                 Pipeline(steps=[('imputer',\n",
       "                                                  SimpleImputer(strategy='median')),\n",
       "                                                 ('scaler', MinMaxScaler())]),\n",
       "                                 ['Age', 'Fare', 'SibSp', 'Parch']),\n",
       "                                ('label_transformer', OrdinalEncoder(),\n",
       "                                 ['Pclass']),\n",
       "                                ('cat_transformer',\n",
       "                                 Pipeline(steps=[('imputer',\n",
       "                                                  SimpleImputer(strategy='most_frequent')),\n",
       "                                                 ('ohe',\n",
       "                                                  OneHotEncoder(handle_unknown='ignore',\n",
       "                                                                sparse=False))]),\n",
       "                                 ['Sex', 'Embarked'])])</pre></div></div></div><div class=\"sk-parallel\"><div class=\"sk-parallel-item\"><div class=\"sk-item\"><div class=\"sk-label-container\"><div class=\"sk-label sk-toggleable\"><input class=\"sk-toggleable__control sk-hidden--visually\" id=\"b2d67ef9-5d79-4101-946d-041d94f42476\" type=\"checkbox\" ><label class=\"sk-toggleable__label\" for=\"b2d67ef9-5d79-4101-946d-041d94f42476\">num_transformer</label><div class=\"sk-toggleable__content\"><pre>['Age', 'Fare', 'SibSp', 'Parch']</pre></div></div></div><div class=\"sk-serial\"><div class=\"sk-item\"><div class=\"sk-serial\"><div class=\"sk-item\"><div class=\"sk-estimator sk-toggleable\"><input class=\"sk-toggleable__control sk-hidden--visually\" id=\"65a5f802-0b9f-41dd-9f11-4748d35122ed\" type=\"checkbox\" ><label class=\"sk-toggleable__label\" for=\"65a5f802-0b9f-41dd-9f11-4748d35122ed\">SimpleImputer</label><div class=\"sk-toggleable__content\"><pre>SimpleImputer(strategy='median')</pre></div></div></div><div class=\"sk-item\"><div class=\"sk-estimator sk-toggleable\"><input class=\"sk-toggleable__control sk-hidden--visually\" id=\"30ee01c2-5b8d-43c3-b7c0-d69090eeaf01\" type=\"checkbox\" ><label class=\"sk-toggleable__label\" for=\"30ee01c2-5b8d-43c3-b7c0-d69090eeaf01\">MinMaxScaler</label><div class=\"sk-toggleable__content\"><pre>MinMaxScaler()</pre></div></div></div></div></div></div></div></div><div class=\"sk-parallel-item\"><div class=\"sk-item\"><div class=\"sk-label-container\"><div class=\"sk-label sk-toggleable\"><input class=\"sk-toggleable__control sk-hidden--visually\" id=\"3ca292b2-d198-4e01-9f1c-bb90f1a41010\" type=\"checkbox\" ><label class=\"sk-toggleable__label\" for=\"3ca292b2-d198-4e01-9f1c-bb90f1a41010\">label_transformer</label><div class=\"sk-toggleable__content\"><pre>['Pclass']</pre></div></div></div><div class=\"sk-serial\"><div class=\"sk-item\"><div class=\"sk-estimator sk-toggleable\"><input class=\"sk-toggleable__control sk-hidden--visually\" id=\"ffd5b9a5-6afb-41ca-afdd-7724a81635ac\" type=\"checkbox\" ><label class=\"sk-toggleable__label\" for=\"ffd5b9a5-6afb-41ca-afdd-7724a81635ac\">OrdinalEncoder</label><div class=\"sk-toggleable__content\"><pre>OrdinalEncoder()</pre></div></div></div></div></div></div><div class=\"sk-parallel-item\"><div class=\"sk-item\"><div class=\"sk-label-container\"><div class=\"sk-label sk-toggleable\"><input class=\"sk-toggleable__control sk-hidden--visually\" id=\"6ae60d48-94b4-4d27-95dc-b57acd34885f\" type=\"checkbox\" ><label class=\"sk-toggleable__label\" for=\"6ae60d48-94b4-4d27-95dc-b57acd34885f\">cat_transformer</label><div class=\"sk-toggleable__content\"><pre>['Sex', 'Embarked']</pre></div></div></div><div class=\"sk-serial\"><div class=\"sk-item\"><div class=\"sk-serial\"><div class=\"sk-item\"><div class=\"sk-estimator sk-toggleable\"><input class=\"sk-toggleable__control sk-hidden--visually\" id=\"f7f177d6-4ea5-40fa-bd29-fe25a4ff0de5\" type=\"checkbox\" ><label class=\"sk-toggleable__label\" for=\"f7f177d6-4ea5-40fa-bd29-fe25a4ff0de5\">SimpleImputer</label><div class=\"sk-toggleable__content\"><pre>SimpleImputer(strategy='most_frequent')</pre></div></div></div><div class=\"sk-item\"><div class=\"sk-estimator sk-toggleable\"><input class=\"sk-toggleable__control sk-hidden--visually\" id=\"c67e953a-09c9-4d66-a71c-1e29f8d4ac1a\" type=\"checkbox\" ><label class=\"sk-toggleable__label\" for=\"c67e953a-09c9-4d66-a71c-1e29f8d4ac1a\">OneHotEncoder</label><div class=\"sk-toggleable__content\"><pre>OneHotEncoder(handle_unknown='ignore', sparse=False)</pre></div></div></div></div></div></div></div></div></div></div><div class=\"sk-item\"><div class=\"sk-estimator sk-toggleable\"><input class=\"sk-toggleable__control sk-hidden--visually\" id=\"9a71527a-8b6c-4334-a937-655324c1da31\" type=\"checkbox\" ><label class=\"sk-toggleable__label\" for=\"9a71527a-8b6c-4334-a937-655324c1da31\">RandomForestClassifier</label><div class=\"sk-toggleable__content\"><pre>RandomForestClassifier()</pre></div></div></div></div></div></div></div>"
      ],
      "text/plain": [
       "Pipeline(steps=[('preprocessing',\n",
       "                 ColumnTransformer(transformers=[('num_transformer',\n",
       "                                                  Pipeline(steps=[('imputer',\n",
       "                                                                   SimpleImputer(strategy='median')),\n",
       "                                                                  ('scaler',\n",
       "                                                                   MinMaxScaler())]),\n",
       "                                                  ['Age', 'Fare', 'SibSp',\n",
       "                                                   'Parch']),\n",
       "                                                 ('label_transformer',\n",
       "                                                  OrdinalEncoder(),\n",
       "                                                  ['Pclass']),\n",
       "                                                 ('cat_transformer',\n",
       "                                                  Pipeline(steps=[('imputer',\n",
       "                                                                   SimpleImputer(strategy='most_frequent')),\n",
       "                                                                  ('ohe',\n",
       "                                                                   OneHotEncoder(handle_unknown='ignore',\n",
       "                                                                                 sparse=False))]),\n",
       "                                                  ['Sex', 'Embarked'])])),\n",
       "                ('ensemble_estimator', RandomForestClassifier())])"
      ]
     },
     "execution_count": 67,
     "metadata": {},
     "output_type": "execute_result"
    }
   ],
   "source": [
    "pipe = Pipeline([\n",
    "    ('preprocessing', preprocessor),\n",
    "    #('linear_SVC', LinearSVC())\n",
    "    ('ensemble_estimator', RandomForestClassifier())\n",
    "])\n",
    "    \n",
    "pipe"
   ]
  },
  {
   "cell_type": "code",
   "execution_count": 68,
   "id": "87780132",
   "metadata": {
    "ExecuteTime": {
     "end_time": "2021-10-03T11:04:40.308823Z",
     "start_time": "2021-10-03T11:04:40.301318Z"
    }
   },
   "outputs": [],
   "source": [
    "X = data.drop(columns='Survived')"
   ]
  },
  {
   "cell_type": "code",
   "execution_count": 69,
   "id": "4bac4e88",
   "metadata": {
    "ExecuteTime": {
     "end_time": "2021-10-03T11:04:42.177563Z",
     "start_time": "2021-10-03T11:04:41.365303Z"
    }
   },
   "outputs": [
    {
     "data": {
      "text/plain": [
       "0.813709120582512"
      ]
     },
     "execution_count": 69,
     "metadata": {},
     "output_type": "execute_result"
    }
   ],
   "source": [
    "cross_val_score(pipe, X, y, cv=5, scoring='accuracy').mean()"
   ]
  },
  {
   "cell_type": "code",
   "execution_count": 70,
   "id": "1821d5a1",
   "metadata": {
    "ExecuteTime": {
     "end_time": "2021-10-03T11:05:17.396285Z",
     "start_time": "2021-10-03T11:05:17.388978Z"
    }
   },
   "outputs": [],
   "source": [
    "## Hyperparameters tuning"
   ]
  },
  {
   "cell_type": "code",
   "execution_count": 72,
   "id": "80af38d6",
   "metadata": {
    "ExecuteTime": {
     "end_time": "2021-10-03T11:05:41.939282Z",
     "start_time": "2021-10-03T11:05:41.864177Z"
    }
   },
   "outputs": [
    {
     "data": {
      "text/plain": [
       "{'memory': None,\n",
       " 'steps': [('preprocessing',\n",
       "   ColumnTransformer(transformers=[('num_transformer',\n",
       "                                    Pipeline(steps=[('imputer',\n",
       "                                                     SimpleImputer(strategy='median')),\n",
       "                                                    ('scaler', MinMaxScaler())]),\n",
       "                                    ['Age', 'Fare', 'SibSp', 'Parch']),\n",
       "                                   ('label_transformer', OrdinalEncoder(),\n",
       "                                    ['Pclass']),\n",
       "                                   ('cat_transformer',\n",
       "                                    Pipeline(steps=[('imputer',\n",
       "                                                     SimpleImputer(strategy='most_frequent')),\n",
       "                                                    ('ohe',\n",
       "                                                     OneHotEncoder(handle_unknown='ignore',\n",
       "                                                                   sparse=False))]),\n",
       "                                    ['Sex', 'Embarked'])])),\n",
       "  ('ensemble_estimator', RandomForestClassifier())],\n",
       " 'verbose': False,\n",
       " 'preprocessing': ColumnTransformer(transformers=[('num_transformer',\n",
       "                                  Pipeline(steps=[('imputer',\n",
       "                                                   SimpleImputer(strategy='median')),\n",
       "                                                  ('scaler', MinMaxScaler())]),\n",
       "                                  ['Age', 'Fare', 'SibSp', 'Parch']),\n",
       "                                 ('label_transformer', OrdinalEncoder(),\n",
       "                                  ['Pclass']),\n",
       "                                 ('cat_transformer',\n",
       "                                  Pipeline(steps=[('imputer',\n",
       "                                                   SimpleImputer(strategy='most_frequent')),\n",
       "                                                  ('ohe',\n",
       "                                                   OneHotEncoder(handle_unknown='ignore',\n",
       "                                                                 sparse=False))]),\n",
       "                                  ['Sex', 'Embarked'])]),\n",
       " 'ensemble_estimator': RandomForestClassifier(),\n",
       " 'preprocessing__n_jobs': None,\n",
       " 'preprocessing__remainder': 'drop',\n",
       " 'preprocessing__sparse_threshold': 0.3,\n",
       " 'preprocessing__transformer_weights': None,\n",
       " 'preprocessing__transformers': [('num_transformer',\n",
       "   Pipeline(steps=[('imputer', SimpleImputer(strategy='median')),\n",
       "                   ('scaler', MinMaxScaler())]),\n",
       "   ['Age', 'Fare', 'SibSp', 'Parch']),\n",
       "  ('label_transformer', OrdinalEncoder(), ['Pclass']),\n",
       "  ('cat_transformer',\n",
       "   Pipeline(steps=[('imputer', SimpleImputer(strategy='most_frequent')),\n",
       "                   ('ohe', OneHotEncoder(handle_unknown='ignore', sparse=False))]),\n",
       "   ['Sex', 'Embarked'])],\n",
       " 'preprocessing__verbose': False,\n",
       " 'preprocessing__verbose_feature_names_out': True,\n",
       " 'preprocessing__num_transformer': Pipeline(steps=[('imputer', SimpleImputer(strategy='median')),\n",
       "                 ('scaler', MinMaxScaler())]),\n",
       " 'preprocessing__label_transformer': OrdinalEncoder(),\n",
       " 'preprocessing__cat_transformer': Pipeline(steps=[('imputer', SimpleImputer(strategy='most_frequent')),\n",
       "                 ('ohe', OneHotEncoder(handle_unknown='ignore', sparse=False))]),\n",
       " 'preprocessing__num_transformer__memory': None,\n",
       " 'preprocessing__num_transformer__steps': [('imputer',\n",
       "   SimpleImputer(strategy='median')),\n",
       "  ('scaler', MinMaxScaler())],\n",
       " 'preprocessing__num_transformer__verbose': False,\n",
       " 'preprocessing__num_transformer__imputer': SimpleImputer(strategy='median'),\n",
       " 'preprocessing__num_transformer__scaler': MinMaxScaler(),\n",
       " 'preprocessing__num_transformer__imputer__add_indicator': False,\n",
       " 'preprocessing__num_transformer__imputer__copy': True,\n",
       " 'preprocessing__num_transformer__imputer__fill_value': None,\n",
       " 'preprocessing__num_transformer__imputer__missing_values': nan,\n",
       " 'preprocessing__num_transformer__imputer__strategy': 'median',\n",
       " 'preprocessing__num_transformer__imputer__verbose': 0,\n",
       " 'preprocessing__num_transformer__scaler__clip': False,\n",
       " 'preprocessing__num_transformer__scaler__copy': True,\n",
       " 'preprocessing__num_transformer__scaler__feature_range': (0, 1),\n",
       " 'preprocessing__label_transformer__categories': 'auto',\n",
       " 'preprocessing__label_transformer__dtype': numpy.float64,\n",
       " 'preprocessing__label_transformer__handle_unknown': 'error',\n",
       " 'preprocessing__label_transformer__unknown_value': None,\n",
       " 'preprocessing__cat_transformer__memory': None,\n",
       " 'preprocessing__cat_transformer__steps': [('imputer',\n",
       "   SimpleImputer(strategy='most_frequent')),\n",
       "  ('ohe', OneHotEncoder(handle_unknown='ignore', sparse=False))],\n",
       " 'preprocessing__cat_transformer__verbose': False,\n",
       " 'preprocessing__cat_transformer__imputer': SimpleImputer(strategy='most_frequent'),\n",
       " 'preprocessing__cat_transformer__ohe': OneHotEncoder(handle_unknown='ignore', sparse=False),\n",
       " 'preprocessing__cat_transformer__imputer__add_indicator': False,\n",
       " 'preprocessing__cat_transformer__imputer__copy': True,\n",
       " 'preprocessing__cat_transformer__imputer__fill_value': None,\n",
       " 'preprocessing__cat_transformer__imputer__missing_values': nan,\n",
       " 'preprocessing__cat_transformer__imputer__strategy': 'most_frequent',\n",
       " 'preprocessing__cat_transformer__imputer__verbose': 0,\n",
       " 'preprocessing__cat_transformer__ohe__categories': 'auto',\n",
       " 'preprocessing__cat_transformer__ohe__drop': None,\n",
       " 'preprocessing__cat_transformer__ohe__dtype': numpy.float64,\n",
       " 'preprocessing__cat_transformer__ohe__handle_unknown': 'ignore',\n",
       " 'preprocessing__cat_transformer__ohe__sparse': False,\n",
       " 'ensemble_estimator__bootstrap': True,\n",
       " 'ensemble_estimator__ccp_alpha': 0.0,\n",
       " 'ensemble_estimator__class_weight': None,\n",
       " 'ensemble_estimator__criterion': 'gini',\n",
       " 'ensemble_estimator__max_depth': None,\n",
       " 'ensemble_estimator__max_features': 'auto',\n",
       " 'ensemble_estimator__max_leaf_nodes': None,\n",
       " 'ensemble_estimator__max_samples': None,\n",
       " 'ensemble_estimator__min_impurity_decrease': 0.0,\n",
       " 'ensemble_estimator__min_samples_leaf': 1,\n",
       " 'ensemble_estimator__min_samples_split': 2,\n",
       " 'ensemble_estimator__min_weight_fraction_leaf': 0.0,\n",
       " 'ensemble_estimator__n_estimators': 100,\n",
       " 'ensemble_estimator__n_jobs': None,\n",
       " 'ensemble_estimator__oob_score': False,\n",
       " 'ensemble_estimator__random_state': None,\n",
       " 'ensemble_estimator__verbose': 0,\n",
       " 'ensemble_estimator__warm_start': False}"
      ]
     },
     "execution_count": 72,
     "metadata": {},
     "output_type": "execute_result"
    }
   ],
   "source": [
    "pipe.get_params()"
   ]
  },
  {
   "cell_type": "code",
   "execution_count": 76,
   "id": "76f0f3eb",
   "metadata": {
    "ExecuteTime": {
     "end_time": "2021-10-03T11:18:00.530274Z",
     "start_time": "2021-10-03T11:14:58.953806Z"
    }
   },
   "outputs": [
    {
     "data": {
      "text/plain": [
       "{'ensemble_estimator__ccp_alpha': 0.0,\n",
       " 'ensemble_estimator__min_impurity_decrease': 0.0,\n",
       " 'ensemble_estimator__min_samples_leaf': 2,\n",
       " 'ensemble_estimator__min_samples_split': 2,\n",
       " 'ensemble_estimator__n_estimators': 200}"
      ]
     },
     "execution_count": 76,
     "metadata": {},
     "output_type": "execute_result"
    }
   ],
   "source": [
    "from sklearn.model_selection import GridSearchCV\n",
    "\n",
    "# Instanciate grid search\n",
    "grid_search = GridSearchCV(\n",
    "    pipe,\n",
    "    param_grid={\n",
    "        'ensemble_estimator__ccp_alpha': [0.0, 0.1, 0.5],\n",
    "        'ensemble_estimator__min_impurity_decrease': [0.0, 0.1, 0.5],\n",
    "        'ensemble_estimator__min_samples_leaf': [1, 2],\n",
    "        'ensemble_estimator__min_samples_split': [2, 4],\n",
    "        'ensemble_estimator__n_estimators': [100, 200, 500],\n",
    "    },\n",
    "    cv=5,\n",
    "    scoring=\"accuracy\")\n",
    "\n",
    "grid_search.fit(X, y)\n",
    "grid_search.best_params_"
   ]
  },
  {
   "cell_type": "code",
   "execution_count": 82,
   "id": "240e438d",
   "metadata": {
    "ExecuteTime": {
     "end_time": "2021-10-03T11:20:17.251800Z",
     "start_time": "2021-10-03T11:20:17.176132Z"
    }
   },
   "outputs": [
    {
     "data": {
      "text/html": [
       "<style>#sk-a21258e8-30bf-4059-aa2f-b6ff84293d22 {color: black;background-color: white;}#sk-a21258e8-30bf-4059-aa2f-b6ff84293d22 pre{padding: 0;}#sk-a21258e8-30bf-4059-aa2f-b6ff84293d22 div.sk-toggleable {background-color: white;}#sk-a21258e8-30bf-4059-aa2f-b6ff84293d22 label.sk-toggleable__label {cursor: pointer;display: block;width: 100%;margin-bottom: 0;padding: 0.3em;box-sizing: border-box;text-align: center;}#sk-a21258e8-30bf-4059-aa2f-b6ff84293d22 div.sk-toggleable__content {max-height: 0;max-width: 0;overflow: hidden;text-align: left;background-color: #f0f8ff;}#sk-a21258e8-30bf-4059-aa2f-b6ff84293d22 div.sk-toggleable__content pre {margin: 0.2em;color: black;border-radius: 0.25em;background-color: #f0f8ff;}#sk-a21258e8-30bf-4059-aa2f-b6ff84293d22 input.sk-toggleable__control:checked~div.sk-toggleable__content {max-height: 200px;max-width: 100%;overflow: auto;}#sk-a21258e8-30bf-4059-aa2f-b6ff84293d22 div.sk-estimator input.sk-toggleable__control:checked~label.sk-toggleable__label {background-color: #d4ebff;}#sk-a21258e8-30bf-4059-aa2f-b6ff84293d22 div.sk-label input.sk-toggleable__control:checked~label.sk-toggleable__label {background-color: #d4ebff;}#sk-a21258e8-30bf-4059-aa2f-b6ff84293d22 input.sk-hidden--visually {border: 0;clip: rect(1px 1px 1px 1px);clip: rect(1px, 1px, 1px, 1px);height: 1px;margin: -1px;overflow: hidden;padding: 0;position: absolute;width: 1px;}#sk-a21258e8-30bf-4059-aa2f-b6ff84293d22 div.sk-estimator {font-family: monospace;background-color: #f0f8ff;border: 1px dotted black;border-radius: 0.25em;box-sizing: border-box;margin-bottom: 0.5em;}#sk-a21258e8-30bf-4059-aa2f-b6ff84293d22 div.sk-estimator:hover {background-color: #d4ebff;}#sk-a21258e8-30bf-4059-aa2f-b6ff84293d22 div.sk-parallel-item::after {content: \"\";width: 100%;border-bottom: 1px solid gray;flex-grow: 1;}#sk-a21258e8-30bf-4059-aa2f-b6ff84293d22 div.sk-label:hover label.sk-toggleable__label {background-color: #d4ebff;}#sk-a21258e8-30bf-4059-aa2f-b6ff84293d22 div.sk-serial::before {content: \"\";position: absolute;border-left: 1px solid gray;box-sizing: border-box;top: 2em;bottom: 0;left: 50%;}#sk-a21258e8-30bf-4059-aa2f-b6ff84293d22 div.sk-serial {display: flex;flex-direction: column;align-items: center;background-color: white;padding-right: 0.2em;padding-left: 0.2em;}#sk-a21258e8-30bf-4059-aa2f-b6ff84293d22 div.sk-item {z-index: 1;}#sk-a21258e8-30bf-4059-aa2f-b6ff84293d22 div.sk-parallel {display: flex;align-items: stretch;justify-content: center;background-color: white;}#sk-a21258e8-30bf-4059-aa2f-b6ff84293d22 div.sk-parallel::before {content: \"\";position: absolute;border-left: 1px solid gray;box-sizing: border-box;top: 2em;bottom: 0;left: 50%;}#sk-a21258e8-30bf-4059-aa2f-b6ff84293d22 div.sk-parallel-item {display: flex;flex-direction: column;position: relative;background-color: white;}#sk-a21258e8-30bf-4059-aa2f-b6ff84293d22 div.sk-parallel-item:first-child::after {align-self: flex-end;width: 50%;}#sk-a21258e8-30bf-4059-aa2f-b6ff84293d22 div.sk-parallel-item:last-child::after {align-self: flex-start;width: 50%;}#sk-a21258e8-30bf-4059-aa2f-b6ff84293d22 div.sk-parallel-item:only-child::after {width: 0;}#sk-a21258e8-30bf-4059-aa2f-b6ff84293d22 div.sk-dashed-wrapped {border: 1px dashed gray;margin: 0 0.4em 0.5em 0.4em;box-sizing: border-box;padding-bottom: 0.4em;background-color: white;position: relative;}#sk-a21258e8-30bf-4059-aa2f-b6ff84293d22 div.sk-label label {font-family: monospace;font-weight: bold;background-color: white;display: inline-block;line-height: 1.2em;}#sk-a21258e8-30bf-4059-aa2f-b6ff84293d22 div.sk-label-container {position: relative;z-index: 2;text-align: center;}#sk-a21258e8-30bf-4059-aa2f-b6ff84293d22 div.sk-container {display: inline-block;position: relative;}</style><div id=\"sk-a21258e8-30bf-4059-aa2f-b6ff84293d22\" class\"sk-top-container\"><div class=\"sk-container\"><div class=\"sk-item sk-dashed-wrapped\"><div class=\"sk-label-container\"><div class=\"sk-label sk-toggleable\"><input class=\"sk-toggleable__control sk-hidden--visually\" id=\"8108535b-506c-4ff5-9612-3e8859643857\" type=\"checkbox\" ><label class=\"sk-toggleable__label\" for=\"8108535b-506c-4ff5-9612-3e8859643857\">Pipeline</label><div class=\"sk-toggleable__content\"><pre>Pipeline(steps=[('preprocessing',\n",
       "                 ColumnTransformer(transformers=[('num_transformer',\n",
       "                                                  Pipeline(steps=[('imputer',\n",
       "                                                                   SimpleImputer(strategy='median')),\n",
       "                                                                  ('scaler',\n",
       "                                                                   MinMaxScaler())]),\n",
       "                                                  ['Age', 'Fare', 'SibSp',\n",
       "                                                   'Parch']),\n",
       "                                                 ('label_transformer',\n",
       "                                                  OrdinalEncoder(),\n",
       "                                                  ['Pclass']),\n",
       "                                                 ('cat_transformer',\n",
       "                                                  Pipeline(steps=[('imputer',\n",
       "                                                                   SimpleImputer(strategy='most_frequent')),\n",
       "                                                                  ('ohe',\n",
       "                                                                   OneHotEncoder(handle_unknown='ignore',\n",
       "                                                                                 sparse=False))]),\n",
       "                                                  ['Sex', 'Embarked'])])),\n",
       "                ('ensemble_estimator',\n",
       "                 RandomForestClassifier(min_samples_leaf=2, n_estimators=200))])</pre></div></div></div><div class=\"sk-serial\"><div class=\"sk-item sk-dashed-wrapped\"><div class=\"sk-label-container\"><div class=\"sk-label sk-toggleable\"><input class=\"sk-toggleable__control sk-hidden--visually\" id=\"441776d0-db50-4835-b319-304166638f8e\" type=\"checkbox\" ><label class=\"sk-toggleable__label\" for=\"441776d0-db50-4835-b319-304166638f8e\">preprocessing: ColumnTransformer</label><div class=\"sk-toggleable__content\"><pre>ColumnTransformer(transformers=[('num_transformer',\n",
       "                                 Pipeline(steps=[('imputer',\n",
       "                                                  SimpleImputer(strategy='median')),\n",
       "                                                 ('scaler', MinMaxScaler())]),\n",
       "                                 ['Age', 'Fare', 'SibSp', 'Parch']),\n",
       "                                ('label_transformer', OrdinalEncoder(),\n",
       "                                 ['Pclass']),\n",
       "                                ('cat_transformer',\n",
       "                                 Pipeline(steps=[('imputer',\n",
       "                                                  SimpleImputer(strategy='most_frequent')),\n",
       "                                                 ('ohe',\n",
       "                                                  OneHotEncoder(handle_unknown='ignore',\n",
       "                                                                sparse=False))]),\n",
       "                                 ['Sex', 'Embarked'])])</pre></div></div></div><div class=\"sk-parallel\"><div class=\"sk-parallel-item\"><div class=\"sk-item\"><div class=\"sk-label-container\"><div class=\"sk-label sk-toggleable\"><input class=\"sk-toggleable__control sk-hidden--visually\" id=\"b38b6fb5-9ef9-486f-b1b5-1e16cdb97711\" type=\"checkbox\" ><label class=\"sk-toggleable__label\" for=\"b38b6fb5-9ef9-486f-b1b5-1e16cdb97711\">num_transformer</label><div class=\"sk-toggleable__content\"><pre>['Age', 'Fare', 'SibSp', 'Parch']</pre></div></div></div><div class=\"sk-serial\"><div class=\"sk-item\"><div class=\"sk-serial\"><div class=\"sk-item\"><div class=\"sk-estimator sk-toggleable\"><input class=\"sk-toggleable__control sk-hidden--visually\" id=\"6d90cfb7-9996-446e-9c99-8d601093f6a1\" type=\"checkbox\" ><label class=\"sk-toggleable__label\" for=\"6d90cfb7-9996-446e-9c99-8d601093f6a1\">SimpleImputer</label><div class=\"sk-toggleable__content\"><pre>SimpleImputer(strategy='median')</pre></div></div></div><div class=\"sk-item\"><div class=\"sk-estimator sk-toggleable\"><input class=\"sk-toggleable__control sk-hidden--visually\" id=\"1c70f1a2-f712-4395-ac9c-bb76d9dccb24\" type=\"checkbox\" ><label class=\"sk-toggleable__label\" for=\"1c70f1a2-f712-4395-ac9c-bb76d9dccb24\">MinMaxScaler</label><div class=\"sk-toggleable__content\"><pre>MinMaxScaler()</pre></div></div></div></div></div></div></div></div><div class=\"sk-parallel-item\"><div class=\"sk-item\"><div class=\"sk-label-container\"><div class=\"sk-label sk-toggleable\"><input class=\"sk-toggleable__control sk-hidden--visually\" id=\"d712a882-184d-4aab-8f2a-213cd7fa6867\" type=\"checkbox\" ><label class=\"sk-toggleable__label\" for=\"d712a882-184d-4aab-8f2a-213cd7fa6867\">label_transformer</label><div class=\"sk-toggleable__content\"><pre>['Pclass']</pre></div></div></div><div class=\"sk-serial\"><div class=\"sk-item\"><div class=\"sk-estimator sk-toggleable\"><input class=\"sk-toggleable__control sk-hidden--visually\" id=\"531d8549-0ed4-41d3-8845-4ed7797e7465\" type=\"checkbox\" ><label class=\"sk-toggleable__label\" for=\"531d8549-0ed4-41d3-8845-4ed7797e7465\">OrdinalEncoder</label><div class=\"sk-toggleable__content\"><pre>OrdinalEncoder()</pre></div></div></div></div></div></div><div class=\"sk-parallel-item\"><div class=\"sk-item\"><div class=\"sk-label-container\"><div class=\"sk-label sk-toggleable\"><input class=\"sk-toggleable__control sk-hidden--visually\" id=\"ba0db7d9-e159-4b1e-81b8-c60cf941fd78\" type=\"checkbox\" ><label class=\"sk-toggleable__label\" for=\"ba0db7d9-e159-4b1e-81b8-c60cf941fd78\">cat_transformer</label><div class=\"sk-toggleable__content\"><pre>['Sex', 'Embarked']</pre></div></div></div><div class=\"sk-serial\"><div class=\"sk-item\"><div class=\"sk-serial\"><div class=\"sk-item\"><div class=\"sk-estimator sk-toggleable\"><input class=\"sk-toggleable__control sk-hidden--visually\" id=\"2583a3a6-14d3-4686-8286-a5e4f1eb38f7\" type=\"checkbox\" ><label class=\"sk-toggleable__label\" for=\"2583a3a6-14d3-4686-8286-a5e4f1eb38f7\">SimpleImputer</label><div class=\"sk-toggleable__content\"><pre>SimpleImputer(strategy='most_frequent')</pre></div></div></div><div class=\"sk-item\"><div class=\"sk-estimator sk-toggleable\"><input class=\"sk-toggleable__control sk-hidden--visually\" id=\"71d4e1fa-f063-4774-ac97-e234005306c6\" type=\"checkbox\" ><label class=\"sk-toggleable__label\" for=\"71d4e1fa-f063-4774-ac97-e234005306c6\">OneHotEncoder</label><div class=\"sk-toggleable__content\"><pre>OneHotEncoder(handle_unknown='ignore', sparse=False)</pre></div></div></div></div></div></div></div></div></div></div><div class=\"sk-item\"><div class=\"sk-estimator sk-toggleable\"><input class=\"sk-toggleable__control sk-hidden--visually\" id=\"e1f418b0-5230-4fc4-98ca-bb1db07b64f5\" type=\"checkbox\" ><label class=\"sk-toggleable__label\" for=\"e1f418b0-5230-4fc4-98ca-bb1db07b64f5\">RandomForestClassifier</label><div class=\"sk-toggleable__content\"><pre>RandomForestClassifier(min_samples_leaf=2, n_estimators=200)</pre></div></div></div></div></div></div></div>"
      ],
      "text/plain": [
       "Pipeline(steps=[('preprocessing',\n",
       "                 ColumnTransformer(transformers=[('num_transformer',\n",
       "                                                  Pipeline(steps=[('imputer',\n",
       "                                                                   SimpleImputer(strategy='median')),\n",
       "                                                                  ('scaler',\n",
       "                                                                   MinMaxScaler())]),\n",
       "                                                  ['Age', 'Fare', 'SibSp',\n",
       "                                                   'Parch']),\n",
       "                                                 ('label_transformer',\n",
       "                                                  OrdinalEncoder(),\n",
       "                                                  ['Pclass']),\n",
       "                                                 ('cat_transformer',\n",
       "                                                  Pipeline(steps=[('imputer',\n",
       "                                                                   SimpleImputer(strategy='most_frequent')),\n",
       "                                                                  ('ohe',\n",
       "                                                                   OneHotEncoder(handle_unknown='ignore',\n",
       "                                                                                 sparse=False))]),\n",
       "                                                  ['Sex', 'Embarked'])])),\n",
       "                ('ensemble_estimator',\n",
       "                 RandomForestClassifier(min_samples_leaf=2, n_estimators=200))])"
      ]
     },
     "execution_count": 82,
     "metadata": {},
     "output_type": "execute_result"
    }
   ],
   "source": [
    "grid_search.best_estimator_"
   ]
  },
  {
   "cell_type": "code",
   "execution_count": 77,
   "id": "599e9e98",
   "metadata": {
    "ExecuteTime": {
     "end_time": "2021-10-03T11:18:00.534590Z",
     "start_time": "2021-10-03T11:18:00.532323Z"
    }
   },
   "outputs": [],
   "source": [
    "tuned_pipe = grid_search.best_estimator_"
   ]
  },
  {
   "cell_type": "markdown",
   "id": "3d013f19",
   "metadata": {
    "ExecuteTime": {
     "end_time": "2021-10-03T10:00:29.247768Z",
     "start_time": "2021-10-03T10:00:29.241908Z"
    }
   },
   "source": [
    "## Generate submission file"
   ]
  },
  {
   "cell_type": "code",
   "execution_count": 79,
   "id": "c9dafeac",
   "metadata": {
    "ExecuteTime": {
     "end_time": "2021-10-03T11:18:35.325583Z",
     "start_time": "2021-10-03T11:18:35.244000Z"
    }
   },
   "outputs": [
    {
     "data": {
      "text/html": [
       "<div>\n",
       "<style scoped>\n",
       "    .dataframe tbody tr th:only-of-type {\n",
       "        vertical-align: middle;\n",
       "    }\n",
       "\n",
       "    .dataframe tbody tr th {\n",
       "        vertical-align: top;\n",
       "    }\n",
       "\n",
       "    .dataframe thead th {\n",
       "        text-align: right;\n",
       "    }\n",
       "</style>\n",
       "<table border=\"1\" class=\"dataframe\">\n",
       "  <thead>\n",
       "    <tr style=\"text-align: right;\">\n",
       "      <th></th>\n",
       "      <th>PassengerId</th>\n",
       "      <th>Survived</th>\n",
       "    </tr>\n",
       "  </thead>\n",
       "  <tbody>\n",
       "    <tr>\n",
       "      <th>0</th>\n",
       "      <td>892</td>\n",
       "      <td>0</td>\n",
       "    </tr>\n",
       "    <tr>\n",
       "      <th>1</th>\n",
       "      <td>893</td>\n",
       "      <td>0</td>\n",
       "    </tr>\n",
       "    <tr>\n",
       "      <th>2</th>\n",
       "      <td>894</td>\n",
       "      <td>0</td>\n",
       "    </tr>\n",
       "    <tr>\n",
       "      <th>3</th>\n",
       "      <td>895</td>\n",
       "      <td>0</td>\n",
       "    </tr>\n",
       "    <tr>\n",
       "      <th>4</th>\n",
       "      <td>896</td>\n",
       "      <td>1</td>\n",
       "    </tr>\n",
       "  </tbody>\n",
       "</table>\n",
       "</div>"
      ],
      "text/plain": [
       "   PassengerId  Survived\n",
       "0          892         0\n",
       "1          893         0\n",
       "2          894         0\n",
       "3          895         0\n",
       "4          896         1"
      ]
     },
     "execution_count": 79,
     "metadata": {},
     "output_type": "execute_result"
    }
   ],
   "source": [
    "X_test = pd.read_csv(path + 'test.csv')\n",
    "X_test['Survived'] = tuned_pipe.predict(X_test)\n",
    "X_test = X_test[['PassengerId', 'Survived']]\n",
    "X_test.head()"
   ]
  },
  {
   "cell_type": "code",
   "execution_count": 80,
   "id": "82cfdc76",
   "metadata": {
    "ExecuteTime": {
     "end_time": "2021-10-03T11:18:36.128859Z",
     "start_time": "2021-10-03T11:18:36.120746Z"
    }
   },
   "outputs": [],
   "source": [
    "submission_file = path + 'submission.csv'\n",
    "X_test.to_csv(path_or_buf=submission_file, index=False)"
   ]
  },
  {
   "cell_type": "code",
   "execution_count": 81,
   "id": "de6749dd",
   "metadata": {
    "ExecuteTime": {
     "end_time": "2021-10-03T11:18:45.174141Z",
     "start_time": "2021-10-03T11:18:37.367937Z"
    }
   },
   "outputs": [
    {
     "name": "stdout",
     "output_type": "stream",
     "text": [
      "100%|████████████████████████████████████████| 2.77k/2.77k [00:05<00:00, 557B/s]\n",
      "Successfully submitted to Titanic - Machine Learning from Disaster"
     ]
    }
   ],
   "source": [
    "!kaggle competitions submit -c titanic -f ../raw_data/submission.csv -m \"RandomForestClassifier\""
   ]
  },
  {
   "cell_type": "markdown",
   "id": "7340685f",
   "metadata": {},
   "source": [
    "## Baseline tracking"
   ]
  },
  {
   "cell_type": "code",
   "execution_count": 83,
   "id": "01a2fe5a",
   "metadata": {
    "ExecuteTime": {
     "end_time": "2021-10-03T11:24:40.277381Z",
     "start_time": "2021-10-03T11:24:40.268205Z"
    }
   },
   "outputs": [
    {
     "data": {
      "text/plain": [
       "0.77272"
      ]
     },
     "execution_count": 83,
     "metadata": {},
     "output_type": "execute_result"
    }
   ],
   "source": [
    "baseline_score = 0.76555 #LinearSVC, nothing fancy\n",
    "baseline_score = 0.77272 #RandomForestClassifier(min_samples_leaf=2, n_estimators=200)\n",
    "baseline_score"
   ]
  },
  {
   "cell_type": "code",
   "execution_count": null,
   "id": "fcb437b9",
   "metadata": {},
   "outputs": [],
   "source": []
  }
 ],
 "metadata": {
  "kernelspec": {
   "display_name": "Python 3 (ipykernel)",
   "language": "python",
   "name": "python3"
  },
  "language_info": {
   "codemirror_mode": {
    "name": "ipython",
    "version": 3
   },
   "file_extension": ".py",
   "mimetype": "text/x-python",
   "name": "python",
   "nbconvert_exporter": "python",
   "pygments_lexer": "ipython3",
   "version": "3.9.5"
  },
  "toc": {
   "base_numbering": 1,
   "nav_menu": {},
   "number_sections": true,
   "sideBar": true,
   "skip_h1_title": false,
   "title_cell": "Table of Contents",
   "title_sidebar": "Contents",
   "toc_cell": false,
   "toc_position": {},
   "toc_section_display": true,
   "toc_window_display": false
  }
 },
 "nbformat": 4,
 "nbformat_minor": 5
}
